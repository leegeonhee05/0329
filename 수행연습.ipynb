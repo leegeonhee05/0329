{
  "nbformat": 4,
  "nbformat_minor": 0,
  "metadata": {
    "colab": {
      "provenance": [],
      "authorship_tag": "ABX9TyM4Iy/+sHL7YgLT+2G8LW/d",
      "include_colab_link": true
    },
    "kernelspec": {
      "name": "python3",
      "display_name": "Python 3"
    },
    "language_info": {
      "name": "python"
    }
  },
  "cells": [
    {
      "cell_type": "markdown",
      "metadata": {
        "id": "view-in-github",
        "colab_type": "text"
      },
      "source": [
        "<a href=\"https://colab.research.google.com/github/leegeonhee05/0329/blob/main/%EC%88%98%ED%96%89%EC%97%B0%EC%8A%B5.ipynb\" target=\"_parent\"><img src=\"https://colab.research.google.com/assets/colab-badge.svg\" alt=\"Open In Colab\"/></a>"
      ]
    },
    {
      "cell_type": "code",
      "execution_count": null,
      "metadata": {
        "id": "4z1IjVgglVrG",
        "colab": {
          "base_uri": "https://localhost:8080/"
        },
        "outputId": "9004a41d-c9a2-4687-e05f-a0d68aa720d3"
      },
      "outputs": [
        {
          "output_type": "stream",
          "name": "stdout",
          "text": [
            "hij\n"
          ]
        }
      ],
      "source": [
        "#변수를 이용한 문자열 출력\n",
        "b = 'hi'\n",
        "name='j'\n",
        "\n",
        "print(b + name)"
      ]
    },
    {
      "cell_type": "code",
      "source": [
        "#리스트\n",
        "sList=[]\n",
        "\n",
        "sList.append(False)\n",
        "sList.append(10)\n",
        "sList.append('g')\n",
        "\n",
        "print(sList)"
      ],
      "metadata": {
        "id": "Cwdt_qRpmgT-",
        "colab": {
          "base_uri": "https://localhost:8080/"
        },
        "outputId": "5dbacb17-e39e-472e-c185-6f8b39cc3a8e"
      },
      "execution_count": null,
      "outputs": [
        {
          "output_type": "stream",
          "name": "stdout",
          "text": [
            "[False, 10, 'g']\n"
          ]
        }
      ]
    },
    {
      "cell_type": "code",
      "source": [
        "x1 = [4,1,5,7]\n",
        "x1[2] = 8 #세번째 숫자 변경\n",
        "x1\n",
        "\n",
        "#x1의 항목값에 2를 더합니다\n",
        "for i in range(0,4):\n",
        "  x1[i] = x1[i]+2\n",
        "\n",
        "print(x1)"
      ],
      "metadata": {
        "colab": {
          "base_uri": "https://localhost:8080/"
        },
        "id": "mc3sshH4nloJ",
        "outputId": "2344b9a2-dd92-4996-ff89-6e30944f6509"
      },
      "execution_count": null,
      "outputs": [
        {
          "output_type": "stream",
          "name": "stdout",
          "text": [
            "[6, 3, 10, 9]\n"
          ]
        }
      ]
    },
    {
      "cell_type": "code",
      "source": [
        "#구구단\n",
        "\n",
        "for i in range(1,10):\n",
        "  for j in range(2,10):\n",
        "    if j % 2 == 0:    #중요\n",
        "     print(str(j)+'*'+str(i)+'='+str(i*j),end='\\t')\n",
        "  print()"
      ],
      "metadata": {
        "id": "RNgmtf33pD5I",
        "colab": {
          "base_uri": "https://localhost:8080/"
        },
        "outputId": "8ad0f26a-e72c-499a-d2c7-cd3eaca9e76f"
      },
      "execution_count": null,
      "outputs": [
        {
          "output_type": "stream",
          "name": "stdout",
          "text": [
            "2*1=2\t3*1=3\t4*1=4\t5*1=5\t6*1=6\t7*1=7\t8*1=8\t9*1=9\t\n",
            "2*2=4\t3*2=6\t4*2=8\t5*2=10\t6*2=12\t7*2=14\t8*2=16\t9*2=18\t\n",
            "2*3=6\t3*3=9\t4*3=12\t5*3=15\t6*3=18\t7*3=21\t8*3=24\t9*3=27\t\n",
            "2*4=8\t3*4=12\t4*4=16\t5*4=20\t6*4=24\t7*4=28\t8*4=32\t9*4=36\t\n",
            "2*5=10\t3*5=15\t4*5=20\t5*5=25\t6*5=30\t7*5=35\t8*5=40\t9*5=45\t\n",
            "2*6=12\t3*6=18\t4*6=24\t5*6=30\t6*6=36\t7*6=42\t8*6=48\t9*6=54\t\n",
            "2*7=14\t3*7=21\t4*7=28\t5*7=35\t6*7=42\t7*7=49\t8*7=56\t9*7=63\t\n",
            "2*8=16\t3*8=24\t4*8=32\t5*8=40\t6*8=48\t7*8=56\t8*8=64\t9*8=72\t\n",
            "2*9=18\t3*9=27\t4*9=36\t5*9=45\t6*9=54\t7*9=63\t8*9=72\t9*9=81\t\n"
          ]
        }
      ]
    },
    {
      "cell_type": "code",
      "source": [
        "name=''\n",
        "while name !='q':   #중요\n",
        "  name = input('너 이름이 뭐니?')\n",
        "  print(name)\n",
        "  "
      ],
      "metadata": {
        "colab": {
          "base_uri": "https://localhost:8080/"
        },
        "id": "hLE_h3ldz1t1",
        "outputId": "3257c700-8643-4ba6-b3de-b0dbf5a10861"
      },
      "execution_count": null,
      "outputs": [
        {
          "output_type": "stream",
          "name": "stdout",
          "text": [
            "너 이름이 뭐니?이건희\n",
            "이건희\n",
            "너 이름이 뭐니?q\n",
            "q\n"
          ]
        }
      ]
    },
    {
      "cell_type": "code",
      "source": [
        "import random\n",
        "answer = random.randint(1,100)    #중요\n",
        "my_answer = int(input('예상 정답 : '))\n",
        "\n",
        "while (answer != my_answer):    #중요\n",
        "  if answer < my_answer :\n",
        "    print('Down~')\n",
        "  else :\n",
        "    print('Up~')\n",
        "  my_answer = int(input('예상 접답 : '))\n",
        "print('정답!!')"
      ],
      "metadata": {
        "colab": {
          "base_uri": "https://localhost:8080/"
        },
        "id": "q6kH9a680yOC",
        "outputId": "f366efb2-3cba-45dc-a8c5-489905c7e4b0"
      },
      "execution_count": null,
      "outputs": [
        {
          "output_type": "stream",
          "name": "stdout",
          "text": [
            "예상 정답 : 100\n",
            "Down~\n",
            "예상 접답 : 70\n",
            "Down~\n",
            "예상 접답 : 50\n",
            "Down~\n",
            "예상 접답 : 40\n",
            "Down~\n",
            "예상 접답 : 30\n",
            "Down~\n",
            "예상 접답 : 20\n",
            "Up~\n",
            "예상 접답 : 25\n",
            "Down~\n",
            "예상 접답 : 24\n",
            "정답!!\n"
          ]
        }
      ]
    },
    {
      "cell_type": "code",
      "source": [
        "#섭씨 온도를 받아서 화씨 온도로 처리\n",
        "f = int(input('화씨온도: '))\n",
        "c = (f-32) * 5/9\n",
        "print('섭씨온도: ', c )"
      ],
      "metadata": {
        "colab": {
          "base_uri": "https://localhost:8080/"
        },
        "id": "ATLmdSnE1y2W",
        "outputId": "277d9307-96fa-469a-be95-7f8ac1d4e708"
      },
      "execution_count": null,
      "outputs": [
        {
          "output_type": "stream",
          "name": "stdout",
          "text": [
            "화씨온도: 50\n",
            "섭씨온도:  10.0\n"
          ]
        }
      ]
    },
    {
      "cell_type": "code",
      "source": [
        "#정수를 입력받아 나머지 구하기\n",
        "print('두 수를 입력하면 나머지 값을 알려줍니다')\n",
        "num1 = int(input('첫번째 숫자를 입력하세요: '))\n",
        "num2 = int(input('두번째 숫자를 입력하세요: '))\n",
        "print(num1,'%',num2,'=',num1%num2)"
      ],
      "metadata": {
        "colab": {
          "base_uri": "https://localhost:8080/"
        },
        "id": "75IcTO-M2-Zi",
        "outputId": "1a2516a4-07f7-4260-80a9-21aeb261d204"
      },
      "execution_count": null,
      "outputs": [
        {
          "output_type": "stream",
          "name": "stdout",
          "text": [
            "두 수를 입력하면 나머지 값을 알려줍니다\n",
            "첫번째 숫자를 입력하세요: 10\n",
            "두번째 숫자를 입력하세요: 3\n",
            "10 % 3 = 1\n"
          ]
        }
      ]
    },
    {
      "cell_type": "code",
      "source": [
        "day = input('년월일(YYYYMMDD)을 입력하세요 : ')\n",
        "year = day[0:4]\n",
        "month = day[4:6]\n",
        "date = day[6:9]\n",
        "print(year + '년' + month + '월' + date + '일')"
      ],
      "metadata": {
        "colab": {
          "base_uri": "https://localhost:8080/"
        },
        "id": "stR1_Q1i3jwM",
        "outputId": "7235c626-38bb-466c-e691-6c1f5b6ab841"
      },
      "execution_count": null,
      "outputs": [
        {
          "output_type": "stream",
          "name": "stdout",
          "text": [
            "년월일(YYYYMMDD)을 입력하세요 : 20050506\n",
            "2005년05월06일\n"
          ]
        }
      ]
    },
    {
      "cell_type": "code",
      "source": [
        "def auto_counter(x,y):\n",
        "  A = x + y\n",
        "  S = x - y\n",
        "  M = x * y\n",
        "  D = x / y\n",
        "  return x,y,A,S,M,D\n",
        "\n",
        "x,y,A,S,M,D = auto_counter(10,5)    #함수호출\n",
        "\n",
        "print(\"사칙연산\", \"x = \"+str(x), \"y = \"+str(y))\n",
        "print(\"덧셈\", A)\n",
        "print(\"뺄셈\", S)\n",
        "print(\"곱셈\", M)\n",
        "print(\"나눗셈\", D)"
      ],
      "metadata": {
        "colab": {
          "base_uri": "https://localhost:8080/"
        },
        "id": "F-hYBH8h4Of5",
        "outputId": "0afcac54-4cfa-4ac2-f39b-7c4d29a6d08b"
      },
      "execution_count": null,
      "outputs": [
        {
          "output_type": "stream",
          "name": "stdout",
          "text": [
            "사칙연산 x = 10 y = 5\n",
            "덧셈 15\n",
            "뺄셈 5\n",
            "곱셈 50\n",
            "나눗셈 2.0\n"
          ]
        }
      ]
    },
    {
      "cell_type": "code",
      "source": [
        "a_price = 2000\n",
        "i_price = 3000\n",
        "c_price = 3500\n",
        "\n",
        "americano = int(input('아메리카노 판매 갯수 : '))\n",
        "latte = int(input('카페라떼 판매 갯수 : '))\n",
        "cappu = int(input('카푸치노 판매 갯수 : '))\n",
        "\n",
        "sales_sum = (a_price * americano) + (i_price * latte) + (c * cappu)\n",
        "print('=' * 40)\n",
        "print('총 매출금액은 '+str(sales_sum)+'입니다')"
      ],
      "metadata": {
        "colab": {
          "base_uri": "https://localhost:8080/"
        },
        "id": "MLx3-ddi5WVJ",
        "outputId": "f59cd0dd-55a3-4bb6-da9d-3a52781357a2"
      },
      "execution_count": null,
      "outputs": [
        {
          "output_type": "stream",
          "name": "stdout",
          "text": [
            "아메리카노 판매 갯수 : 2\n",
            "카페라떼 판매 갯수 : 2\n",
            "카푸치노 판매 갯수 : 3\n",
            "========================================\n",
            "총 매출금액은 10030.0입니다\n"
          ]
        }
      ]
    },
    {
      "cell_type": "code",
      "source": [
        "#편의점 재고 관리\n",
        "stock_dict = {'삼각김밥':10, '커피우유':10}\n",
        "\n",
        "def add_product():\n",
        "  while True:\n",
        "    item = input('상품명: ')\n",
        "    if item == '':\n",
        "      break\n",
        "    \n",
        "    tempNum = int(input('개수: '))\n",
        "    if item in stock_dict.keys():\n",
        "      stock_dict[item] += tempNum\n",
        "    else:\n",
        "      stock_dict[item] = tempNum\n",
        "  print('-' * 50)\n",
        "  for i, e in stock_dict.items():\n",
        "    print(str(i)+':'+ str(e))\n",
        "\n",
        "def sell_product():\n",
        "  while True:\n",
        "    item = input('상품명: ')\n",
        "    if item == '':\n",
        "      break\n",
        "    if item  not  in stock_dict.keys():\n",
        "      print('찾으시는 제품이 없습니다.')\n",
        "      continue\n",
        "    else:\n",
        "      tempNum = int(input('개수: '))\n",
        "    if stock_dict[item] >= tempNum :\n",
        "       stock_dict[item] -= tempNum     \n",
        "       print(stock_dict[item],'개 남았습니다.')\n",
        "    else :\n",
        "        print('재고가 부족합니다')\n",
        "add_product()"
      ],
      "metadata": {
        "colab": {
          "base_uri": "https://localhost:8080/"
        },
        "id": "4Rc9yE87-0NK",
        "outputId": "8ea6d2ac-cc25-426c-f126-2d3e8cc436fc"
      },
      "execution_count": null,
      "outputs": [
        {
          "output_type": "stream",
          "name": "stdout",
          "text": [
            "상품명: 초코우유\n",
            "개수: 5\n",
            "상품명: \n",
            "--------------------------------------------------\n",
            "삼각김밥:10\n",
            "커피우유:10\n",
            "초코우유:5\n"
          ]
        }
      ]
    },
    {
      "cell_type": "code",
      "source": [
        "import random\n",
        "\n",
        "def get_user_choice():        #사람에게 받음\n",
        "  while True:\n",
        "    print(\"가위(1), 바위(2), 보(3) 중 하나를 선택하세요.\")\n",
        "    choice = input()\n",
        "    if choice in [\"1\", \"2\", \"3\"]:\n",
        "      return int(choice)\n",
        "\n",
        "def get_computer_choice():       #컴퓨터에게 받음\n",
        "  return random.randint(1, 3)\n",
        "\n",
        "def get_winner(user_choice, computer_choice):\n",
        "  if user_choice == computer_choice :\n",
        "    return \"비겼습니다.\"\n",
        "  elif (user_choice == 1 and computer_choice == 3) or (user_choice == 2 and computer_choice == 1) or (user_choice == 3 and computer_choice == 2):\n",
        "    return \"사용자가 이겼습니다.\"\n",
        "  else:\n",
        "    return \"컴퓨터가 이겼습니다.\"\n",
        "\n",
        "def main():                                         #중요~\n",
        "  user_choice = get_user_choice()       \n",
        "  computer_choice = get_computer_choice()\n",
        "  winner = get_winner(user_choice,computer_choice)   #~중요\n",
        "  print(winner)\n",
        "\n",
        "if __name__ == \"__main__\":\n",
        "  main()"
      ],
      "metadata": {
        "id": "cXZaFUdo9Qxk",
        "colab": {
          "base_uri": "https://localhost:8080/"
        },
        "outputId": "98276257-4d96-4f2b-f2b8-ce9ba6b3824c"
      },
      "execution_count": null,
      "outputs": [
        {
          "output_type": "stream",
          "name": "stdout",
          "text": [
            "가위(1), 바위(2), 보(3) 중 하나를 선택하세요.\n",
            "1\n",
            "사용자가 이겼습니다.\n"
          ]
        }
      ]
    }
  ]
}